{
 "cells": [
  {
   "cell_type": "markdown",
   "metadata": {},
   "source": [
    "# Exercise I: Profiling the Julia Set Code\n",
    "## Task 1.1 Calculate the Clock Granularity of different Python Timers\n",
    "\n",
    "I run 100 times and caculate the average. The clock granularity is listed following \n",
    "\n",
    "time.time(): 7.152557373046875e-07 s = 715.26 ns\n",
    "\n",
    "timeit: 1.224899997032125e-07 s = 122.49 ns\n",
    "\n",
    "time.time_ns(): 768.0 ns"
   ]
  },
  {
   "cell_type": "code",
   "execution_count": 1,
   "metadata": {},
   "outputs": [],
   "source": [
    "import numpy as np\n",
    "def checktick(time_func):\n",
    "   M = 200\n",
    "   timesfound = np.empty((M,))\n",
    "   for i in range(M):\n",
    "      t1 =  time_func() # get timestamp from timer\n",
    "      t2 = time_func() # get timestamp from timer\n",
    "      while (t2 - t1) < 1e-16: # if zero then we are below clock granularity, retake timing\n",
    "          t2 = time_func() # get timestamp from timer\n",
    "      t1 = t2 # this is outside the loop\n",
    "      timesfound[i] = t1 # record the time stamp\n",
    "   minDelta = 1000000\n",
    "   Delta = np.diff(timesfound) # it should be cast to int only when needed\n",
    "   minDelta = Delta.min()\n",
    "   return minDelta"
   ]
  },
  {
   "cell_type": "code",
   "execution_count": 2,
   "metadata": {},
   "outputs": [
    {
     "name": "stdout",
     "output_type": "stream",
     "text": [
      "The clock granularity of time.time():  715.2557373046875 ns\n"
     ]
    }
   ],
   "source": [
    "import time\n",
    "results = [checktick(time.time) for _ in range(100)]\n",
    "average_tick = np.mean(results)\n",
    "print(\"The clock granularity of time.time(): \",average_tick * (1e9), \"ns\")"
   ]
  },
  {
   "cell_type": "code",
   "execution_count": 3,
   "metadata": {},
   "outputs": [
    {
     "name": "stdout",
     "output_type": "stream",
     "text": [
      "The clock granularity of timeit()  118.32999991967519 ns\n"
     ]
    }
   ],
   "source": [
    "from timeit import default_timer as timer\n",
    "results = [checktick(timer) for _ in range(100)]\n",
    "average_tick = np.mean(results)\n",
    "print(\"The clock granularity of timeit() \",average_tick* (1e9), \"ns\")"
   ]
  },
  {
   "cell_type": "code",
   "execution_count": 4,
   "metadata": {},
   "outputs": [
    {
     "name": "stdout",
     "output_type": "stream",
     "text": [
      "The clock granularity of time.time_ns()  768.0 ns\n"
     ]
    }
   ],
   "source": [
    "import time\n",
    "results = [checktick(time.time_ns) for _ in range(100)]\n",
    "average_tick = np.mean(results)\n",
    "print(\"The clock granularity of time.time_ns() \",average_tick, \"ns\")"
   ]
  },
  {
   "cell_type": "markdown",
   "metadata": {},
   "source": [
    "## Task 1.2 Timing the Julia set code functions. \n",
    "\n",
    "The best timer is timeit\n",
    "The average of execution time in calc_pure_python:  0.9094791666999998 s\n",
    "\n",
    "The standard deviation of execution time in calc_pure_python:  0.02674339780011118 s\n",
    "\n",
    "The average of execution time in calculate_z_serial_purepython:  0.6889902166999997 s\n",
    "\n",
    "The standard deviation of execution time in calculate_z_serial_purepython:  0.017586994181006566 s\n",
    "\n",
    "The value of standard deviation is greater than the clock granularity "
   ]
  },
  {
   "cell_type": "code",
   "execution_count": 5,
   "metadata": {},
   "outputs": [],
   "source": [
    "import JuliaSet"
   ]
  },
  {
   "cell_type": "code",
   "execution_count": 7,
   "metadata": {},
   "outputs": [
    {
     "name": "stdout",
     "output_type": "stream",
     "text": [
      "Length of x: 1000\n",
      "Total elements: 1000000\n",
      "@timefn: calculate_z_serial_purepython took 0.6680184169999999 seconds\n",
      "@timefn: calc_pure_python took 0.8822584579999997 seconds\n",
      "Length of x: 1000\n",
      "Total elements: 1000000\n",
      "@timefn: calculate_z_serial_purepython took 0.6862088330000002 seconds\n",
      "@timefn: calc_pure_python took 0.9006544590000001 seconds\n",
      "Length of x: 1000\n",
      "Total elements: 1000000\n",
      "@timefn: calculate_z_serial_purepython took 0.6798477500000004 seconds\n",
      "@timefn: calc_pure_python took 0.8975891659999995 seconds\n",
      "Length of x: 1000\n",
      "Total elements: 1000000\n",
      "@timefn: calculate_z_serial_purepython took 0.6995526249999999 seconds\n",
      "@timefn: calc_pure_python took 0.96827825 seconds\n",
      "Length of x: 1000\n",
      "Total elements: 1000000\n",
      "@timefn: calculate_z_serial_purepython took 0.7303403749999999 seconds\n",
      "@timefn: calc_pure_python took 0.9456423749999994 seconds\n",
      "Length of x: 1000\n",
      "Total elements: 1000000\n",
      "@timefn: calculate_z_serial_purepython took 0.6796105839999997 seconds\n",
      "@timefn: calc_pure_python took 0.8903980000000002 seconds\n",
      "Length of x: 1000\n",
      "Total elements: 1000000\n",
      "@timefn: calculate_z_serial_purepython took 0.6826078339999988 seconds\n",
      "@timefn: calc_pure_python took 0.8989029999999998 seconds\n",
      "Length of x: 1000\n",
      "Total elements: 1000000\n",
      "@timefn: calculate_z_serial_purepython took 0.6741830409999992 seconds\n",
      "@timefn: calc_pure_python took 0.894808874999999 seconds\n",
      "Length of x: 1000\n",
      "Total elements: 1000000\n",
      "@timefn: calculate_z_serial_purepython took 0.6918947909999993 seconds\n",
      "@timefn: calc_pure_python took 0.9052353340000003 seconds\n",
      "Length of x: 1000\n",
      "Total elements: 1000000\n",
      "@timefn: calculate_z_serial_purepython took 0.6976379169999998 seconds\n",
      "@timefn: calc_pure_python took 0.91102375 seconds\n"
     ]
    }
   ],
   "source": [
    "calculate_z_serial_purepython=[]\n",
    "calc_pure_python=[]\n",
    "for _ in range(10):\n",
    "    time1,time2=JuliaSet.calc_pure_python(desired_width=1000, max_iterations=30)\n",
    "    calculate_z_serial_purepython.append(time1)\n",
    "    calc_pure_python.append(time2)\n",
    "    "
   ]
  },
  {
   "cell_type": "code",
   "execution_count": 8,
   "metadata": {},
   "outputs": [
    {
     "name": "stdout",
     "output_type": "stream",
     "text": [
      "The average execution time of calc_pure_python:  0.9094791666999998\n",
      "The standard dev execution time of calc_pure_python:  0.02674339780011118\n",
      "The average execution time of calculate_z_serial_purepython:  0.6889902166999997\n",
      "The standard dev execution time of calculate_z_serial_purepython:  0.017586994181006566\n"
     ]
    }
   ],
   "source": [
    "import statistics\n",
    "print(\"The average execution time of calc_pure_python: \",statistics.mean(calc_pure_python) )\n",
    "print(\"The standard dev execution time of calc_pure_python: \",statistics.stdev(calc_pure_python) )\n",
    "print(\"The average execution time of calculate_z_serial_purepython: \",statistics.mean(calculate_z_serial_purepython) )\n",
    "print(\"The standard dev execution time of calculate_z_serial_purepython: \",statistics.stdev(calculate_z_serial_purepython) )"
   ]
  },
  {
   "cell_type": "markdown",
   "metadata": {},
   "source": [
    "## Task 1.3 Profile the Julia set code with cProfile and line_profiler the computation.\n",
    "\n",
    "Measure the time overhead of profiler:\n",
    "\n",
    "without profiler: 4.2s\n",
    "\n",
    "cProfile: 5.5s - 4.2s = 1.3s\n",
    "\n",
    "line_profiler: 30.1s - 4.2s = 25.9s\n"
   ]
  },
  {
   "cell_type": "code",
   "execution_count": 12,
   "metadata": {},
   "outputs": [
    {
     "name": "stdout",
     "output_type": "stream",
     "text": [
      "Length of x: 1000\n",
      "Total elements: 1000000\n",
      "^C\n",
      "         3712649 function calls (3712642 primitive calls) in 0.540 seconds\n",
      "\n",
      "   Ordered by: cumulative time\n",
      "\n",
      "   ncalls  tottime  percall  cumtime  percall filename:lineno(function)\n",
      "      2/1    0.000    0.000    0.540    0.540 {built-in method builtins.exec}\n",
      "        1    0.000    0.000    0.540    0.540 JuliaSet.py:1(<module>)\n",
      "      2/1    0.000    0.000    0.540    0.540 JuliaSet.py:11(measure_time)\n",
      "        1    0.252    0.252    0.540    0.540 JuliaSet.py:23(calc_pure_python)\n",
      "        1    0.191    0.191    0.240    0.240 JuliaSet.py:64(calculate_z_serial_purepython)\n",
      "  1710297    0.049    0.000    0.049    0.000 {built-in method builtins.abs}\n",
      "  2002000    0.048    0.000    0.048    0.000 {method 'append' of 'list' objects}\n",
      "      2/1    0.000    0.000    0.000    0.000 <frozen importlib._bootstrap>:1002(_find_and_load)\n",
      "      2/1    0.000    0.000    0.000    0.000 <frozen importlib._bootstrap>:967(_find_and_load_unlocked)\n",
      "      2/1    0.000    0.000    0.000    0.000 <frozen importlib._bootstrap>:659(_load_unlocked)\n",
      "        1    0.000    0.000    0.000    0.000 <frozen importlib._bootstrap_external>:844(exec_module)\n",
      "        2    0.000    0.000    0.000    0.000 <frozen importlib._bootstrap>:901(_find_spec)\n",
      "        1    0.000    0.000    0.000    0.000 <frozen importlib._bootstrap_external>:916(get_code)\n",
      "        1    0.000    0.000    0.000    0.000 <frozen importlib._bootstrap_external>:1415(find_spec)\n",
      "        1    0.000    0.000    0.000    0.000 <frozen importlib._bootstrap_external>:1383(_get_spec)\n",
      "      3/1    0.000    0.000    0.000    0.000 <frozen importlib._bootstrap>:220(_call_with_frames_removed)\n",
      "        1    0.000    0.000    0.000    0.000 timeit.py:3(<module>)\n",
      "        3    0.000    0.000    0.000    0.000 <frozen importlib._bootstrap_external>:1514(find_spec)\n",
      "        2    0.000    0.000    0.000    0.000 {built-in method builtins.print}\n",
      "        1    0.000    0.000    0.000    0.000 <frozen importlib._bootstrap_external>:645(_compile_bytecode)\n",
      "        1    0.000    0.000    0.000    0.000 {built-in method marshal.loads}\n",
      "        2    0.000    0.000    0.000    0.000 <frozen importlib._bootstrap>:558(module_from_spec)\n",
      "        1    0.000    0.000    0.000    0.000 <frozen importlib._bootstrap_external>:1036(get_data)\n",
      "        4    0.000    0.000    0.000    0.000 <frozen importlib._bootstrap_external>:1346(_path_importer_cache)\n",
      "        2    0.000    0.000    0.000    0.000 <frozen importlib._bootstrap>:486(_init_module_attrs)\n",
      "        1    0.000    0.000    0.000    0.000 {built-in method posix.getcwd}\n",
      "       16    0.000    0.000    0.000    0.000 <frozen importlib._bootstrap_external>:121(_path_join)\n",
      "        1    0.000    0.000    0.000    0.000 {built-in method io.open_code}\n",
      "        2    0.000    0.000    0.000    0.000 <frozen importlib._bootstrap>:156(__enter__)\n",
      "        5    0.000    0.000    0.000    0.000 <frozen importlib._bootstrap_external>:135(_path_stat)\n",
      "        2    0.000    0.000    0.000    0.000 <frozen importlib._bootstrap_external>:361(cache_from_source)\n",
      "        5    0.000    0.000    0.000    0.000 {built-in method posix.stat}\n",
      "        1    0.000    0.000    0.000    0.000 <frozen importlib._bootstrap>:757(create_module)\n",
      "        2    0.000    0.000    0.000    0.000 <frozen importlib._bootstrap>:385(cached)\n",
      "        2    0.000    0.000    0.000    0.000 JuliaSet.py:10(timefn)\n",
      "        1    0.000    0.000    0.000    0.000 {built-in method _imp.create_builtin}\n",
      "        1    0.000    0.000    0.000    0.000 {built-in method builtins.__build_class__}\n",
      "        1    0.000    0.000    0.000    0.000 <frozen importlib._bootstrap_external>:491(_get_cached)\n",
      "       16    0.000    0.000    0.000    0.000 <frozen importlib._bootstrap_external>:123(<listcomp>)\n",
      "        2    0.000    0.000    0.000    0.000 <frozen importlib._bootstrap>:166(_get_module_lock)\n",
      "        2    0.000    0.000    0.000    0.000 functools.py:35(update_wrapper)\n",
      "        2    0.000    0.000    0.000    0.000 <frozen importlib._bootstrap>:736(find_spec)\n",
      "        2    0.000    0.000    0.000    0.000 <frozen importlib._bootstrap_external>:127(_path_split)\n",
      "       24    0.000    0.000    0.000    0.000 {built-in method builtins.getattr}\n",
      "        2    0.000    0.000    0.000    0.000 <frozen importlib._bootstrap>:87(acquire)\n",
      "        1    0.000    0.000    0.000    0.000 {method 'read' of '_io.BufferedReader' objects}\n",
      "        1    0.000    0.000    0.000    0.000 <frozen importlib._bootstrap_external>:154(_path_isfile)\n",
      "        1    0.000    0.000    0.000    0.000 <frozen importlib._bootstrap_external>:1509(_get_spec)\n",
      "        1    0.000    0.000    0.000    0.000 <frozen importlib._bootstrap_external>:145(_path_is_mode_type)\n",
      "        1    0.000    0.000    0.000    0.000 <frozen importlib._bootstrap>:415(spec_from_loader)\n",
      "        1    0.000    0.000    0.000    0.000 <frozen importlib._bootstrap_external>:1077(path_stats)\n",
      "        2    0.000    0.000    0.000    0.000 <frozen importlib._bootstrap>:160(__exit__)\n",
      "        1    0.000    0.000    0.000    0.000 <frozen importlib._bootstrap_external>:560(_classify_pyc)\n",
      "        2    0.000    0.000    0.000    0.000 <frozen importlib._bootstrap>:58(__init__)\n",
      "       18    0.000    0.000    0.000    0.000 <frozen importlib._bootstrap>:231(_verbose_message)\n",
      "        1    0.000    0.000    0.000    0.000 <frozen importlib._bootstrap_external>:696(spec_from_file_location)\n",
      "        2    0.000    0.000    0.000    0.000 {built-in method builtins.max}\n",
      "        2    0.000    0.000    0.000    0.000 <frozen importlib._bootstrap>:112(release)\n",
      "        3    0.000    0.000    0.000    0.000 <frozen importlib._bootstrap_external>:79(_unpack_uint32)\n",
      "       34    0.000    0.000    0.000    0.000 {method 'rstrip' of 'str' objects}\n",
      "       18    0.000    0.000    0.000    0.000 {method 'join' of 'str' objects}\n",
      "        1    0.000    0.000    0.000    0.000 <frozen importlib._bootstrap_external>:593(_validate_timestamp_pyc)\n",
      "        9    0.000    0.000    0.000    0.000 {built-in method builtins.hasattr}\n",
      "        2    0.000    0.000    0.000    0.000 <frozen importlib._bootstrap>:185(cb)\n",
      "        1    0.000    0.000    0.000    0.000 {method '__exit__' of '_io._IOBase' objects}\n",
      "        4    0.000    0.000    0.000    0.000 <frozen importlib._bootstrap_external>:129(<genexpr>)\n",
      "        4    0.000    0.000    0.000    0.000 <frozen importlib._bootstrap>:878(__exit__)\n",
      "        2    0.000    0.000    0.000    0.000 <frozen importlib._bootstrap>:351(__init__)\n",
      "        1    0.000    0.000    0.000    0.000 <frozen importlib._bootstrap>:765(exec_module)\n",
      "        4    0.000    0.000    0.000    0.000 <frozen importlib._bootstrap>:874(__enter__)\n",
      "        8    0.000    0.000    0.000    0.000 {built-in method builtins.len}\n",
      "        4    0.000    0.000    0.000    0.000 {built-in method _thread.allocate_lock}\n",
      "        2    0.000    0.000    0.000    0.000 <frozen importlib._bootstrap>:398(parent)\n",
      "        1    0.000    0.000    0.000    0.000 timeit.py:83(Timer)\n",
      "       10    0.000    0.000    0.000    0.000 {built-in method builtins.setattr}\n",
      "        9    0.000    0.000    0.000    0.000 {method 'rpartition' of 'str' objects}\n",
      "        1    0.000    0.000    0.000    0.000 {method 'disable' of '_lsprof.Profiler' objects}\n",
      "        2    0.000    0.000    0.000    0.000 {built-in method time.perf_counter}\n",
      "        2    0.000    0.000    0.000    0.000 {built-in method _imp.is_builtin}\n",
      "        1    0.000    0.000    0.000    0.000 <frozen importlib._bootstrap>:811(find_spec)\n",
      "        1    0.000    0.000    0.000    0.000 <frozen importlib._bootstrap>:241(_requires_builtin_wrapper)\n",
      "        1    0.000    0.000    0.000    0.000 <frozen importlib._bootstrap_external>:523(_check_name_wrapper)\n",
      "        3    0.000    0.000    0.000    0.000 <frozen importlib._bootstrap_external>:64(_relax_case)\n",
      "        2    0.000    0.000    0.000    0.000 functools.py:65(wraps)\n",
      "        8    0.000    0.000    0.000    0.000 {built-in method _imp.release_lock}\n",
      "        1    0.000    0.000    0.000    0.000 <frozen importlib._bootstrap_external>:1006(__init__)\n",
      "        8    0.000    0.000    0.000    0.000 {built-in method _imp.acquire_lock}\n",
      "        4    0.000    0.000    0.000    0.000 {method '__exit__' of '_thread.lock' objects}\n",
      "        6    0.000    0.000    0.000    0.000 {built-in method builtins.isinstance}\n",
      "        1    0.000    0.000    0.000    0.000 <frozen importlib._bootstrap>:35(_new_module)\n",
      "        2    0.000    0.000    0.000    0.000 <frozen importlib._bootstrap>:152(__init__)\n",
      "        4    0.000    0.000    0.000    0.000 {method 'get' of 'dict' objects}\n",
      "        2    0.000    0.000    0.000    0.000 {method 'rfind' of 'str' objects}\n",
      "        2    0.000    0.000    0.000    0.000 {method 'update' of 'dict' objects}\n",
      "        3    0.000    0.000    0.000    0.000 {built-in method from_bytes}\n",
      "        1    0.000    0.000    0.000    0.000 {method 'endswith' of 'str' objects}\n",
      "        4    0.000    0.000    0.000    0.000 {built-in method _thread.get_ident}\n",
      "        2    0.000    0.000    0.000    0.000 {method 'pop' of 'dict' objects}\n",
      "        2    0.000    0.000    0.000    0.000 <frozen importlib._bootstrap>:406(has_location)\n",
      "        1    0.000    0.000    0.000    0.000 {built-in method _imp.is_frozen}\n",
      "        3    0.000    0.000    0.000    0.000 {built-in method posix.fspath}\n",
      "        1    0.000    0.000    0.000    0.000 {built-in method _imp.exec_builtin}\n",
      "        1    0.000    0.000    0.000    0.000 <frozen importlib._bootstrap>:782(is_package)\n",
      "        1    0.000    0.000    0.000    0.000 <frozen importlib._bootstrap_external>:1031(get_filename)\n",
      "        1    0.000    0.000    0.000    0.000 {built-in method _imp._fix_co_filename}\n",
      "        1    0.000    0.000    0.000    0.000 <frozen importlib._bootstrap_external>:841(create_module)\n",
      "\n",
      "\n",
      "Traceback (most recent call last):\n",
      "  File \"/Users/ruimins/.pyenv/versions/3.9.12/lib/python3.9/runpy.py\", line 197, in _run_module_as_main\n",
      "    return _run_code(code, main_globals, None,\n",
      "  File \"/Users/ruimins/.pyenv/versions/3.9.12/lib/python3.9/runpy.py\", line 87, in _run_code\n",
      "    exec(code, run_globals)\n",
      "  File \"/Users/ruimins/.pyenv/versions/3.9.12/lib/python3.9/cProfile.py\", line 190, in <module>\n",
      "    main()\n",
      "  File \"/Users/ruimins/.pyenv/versions/3.9.12/lib/python3.9/cProfile.py\", line 179, in main\n",
      "    runctx(code, globs, None, options.outfile, options.sort)\n",
      "  File \"/Users/ruimins/.pyenv/versions/3.9.12/lib/python3.9/cProfile.py\", line 19, in runctx\n",
      "    return _pyprofile._Utils(Profile).runctx(statement, globals, locals,\n",
      "  File \"/Users/ruimins/.pyenv/versions/3.9.12/lib/python3.9/profile.py\", line 62, in runctx\n",
      "    prof.runctx(statement, globals, locals)\n",
      "  File \"/Users/ruimins/.pyenv/versions/3.9.12/lib/python3.9/cProfile.py\", line 100, in runctx\n",
      "    exec(cmd, globals, locals)\n",
      "  File \"JuliaSet.py\", line 82, in <module>\n",
      "    calc_pure_python(desired_width=1000, max_iterations=300) \n",
      "  File \"JuliaSet.py\", line 14, in measure_time\n",
      "    result = fn(*args, **kwargs)\n",
      "  File \"JuliaSet.py\", line 54, in calc_pure_python\n",
      "    output,elapsed_time = calculate_z_serial_purepython(max_iterations, zs, cs)\n",
      "  File \"JuliaSet.py\", line 14, in measure_time\n",
      "    result = fn(*args, **kwargs)\n",
      "  File \"JuliaSet.py\", line 74, in calculate_z_serial_purepython\n",
      "    z = z * z + c\n",
      "KeyboardInterrupt\n"
     ]
    }
   ],
   "source": [
    "!python -m cProfile -s cumulative JuliaSet.py"
   ]
  },
  {
   "cell_type": "code",
   "execution_count": 4,
   "metadata": {},
   "outputs": [
    {
     "name": "stdout",
     "output_type": "stream",
     "text": [
      "Length of x: 1000\n",
      "Total elements: 1000000\n",
      "@timefn: calculate_z_serial_purepython took 4.6879842499999995 seconds\n",
      "@timefn: calc_pure_python took 4.995159333 seconds\n"
     ]
    }
   ],
   "source": [
    "!python -m cProfile -o profile.stats JuliaSet.py"
   ]
  },
  {
   "cell_type": "code",
   "execution_count": 7,
   "metadata": {},
   "outputs": [
    {
     "name": "stdout",
     "output_type": "stream",
     "text": [
      "snakeviz web server started on 127.0.0.1:8080; enter Ctrl-C to exit\n",
      "http://127.0.0.1:8080/snakeviz/%2FUsers%2Fruimins%2FDownloads%2FFDD2356%2Fprofile.stats\n",
      "^C\n",
      "\n",
      "Bye!\n"
     ]
    }
   ],
   "source": [
    "\n",
    "!python -m snakeviz profile.stats --server"
   ]
  },
  {
   "cell_type": "code",
   "execution_count": 9,
   "metadata": {},
   "outputs": [
    {
     "name": "stdout",
     "output_type": "stream",
     "text": [
      "Length of x: 1000\n",
      "Total elements: 1000000\n",
      "@timefn: calculate_z_serial_purepython took 28.762626209 seconds\n",
      "@timefn: calc_pure_python took 29.76298125 seconds\n",
      "Wrote profile results to JuliaSet.py.lprof\n",
      "Inspect results with:\n",
      "python -m line_profiler -rmt \"JuliaSet.py.lprof\"\n"
     ]
    }
   ],
   "source": [
    "!python -m kernprof -l JuliaSet.py"
   ]
  },
  {
   "cell_type": "code",
   "execution_count": 10,
   "metadata": {},
   "outputs": [
    {
     "name": "stdout",
     "output_type": "stream",
     "text": [
      "Timer unit: 1e-06 s\n",
      "\n",
      "Total time: 29.3396 s\n",
      "File: JuliaSet.py\n",
      "Function: calc_pure_python at line 23\n",
      "\n",
      "Line #      Hits         Time  Per Hit   % Time  Line Contents\n",
      "==============================================================\n",
      "    23                                           @timefn\n",
      "    24                                           @profile\n",
      "    25                                           def calc_pure_python(desired_width, max_iterations):\n",
      "    26                                               \"\"\"Create a list of complex coordinates (zs) and complex parameters (cs),\n",
      "    27                                               build Julia set\"\"\"\n",
      "    28         1          1.0      1.0      0.0      x_step = (x2 - x1) / desired_width\n",
      "    29         1          0.0      0.0      0.0      y_step = (y1 - y2) / desired_width\n",
      "    30         1          1.0      1.0      0.0      x = []\n",
      "    31         1          0.0      0.0      0.0      y = []\n",
      "    32         1          0.0      0.0      0.0      ycoord = y2\n",
      "    33      1001        125.0      0.1      0.0      while ycoord > y1:\n",
      "    34      1000        137.0      0.1      0.0          y.append(ycoord)\n",
      "    35      1000        109.0      0.1      0.0          ycoord += y_step\n",
      "    36         1          0.0      0.0      0.0      xcoord = x1\n",
      "    37      1001        136.0      0.1      0.0      while xcoord < x2:\n",
      "    38      1000        152.0      0.2      0.0          x.append(xcoord)\n",
      "    39      1000        123.0      0.1      0.0          xcoord += x_step\n",
      "    40                                               # build a list of coordinates and the initial condition for each cell.\n",
      "    41                                               # Note that our initial condition is a constant and could easily be removed,\n",
      "    42                                               # we use it to simulate a real-world scenario with several inputs to our\n",
      "    43                                               # function\n",
      "    44         1          0.0      0.0      0.0      zs = []\n",
      "    45         1          0.0      0.0      0.0      cs = []\n",
      "    46      1001        127.0      0.1      0.0      for ycoord in y:\n",
      "    47   1001000     123105.0      0.1      0.4          for xcoord in x:\n",
      "    48   1000000     220258.0      0.2      0.8              zs.append(complex(xcoord, ycoord))\n",
      "    49   1000000     233081.0      0.2      0.8              cs.append(complex(c_real, c_imag))\n",
      "    50                                           \n",
      "    51         1         24.0     24.0      0.0      print(\"Length of x:\", len(x))\n",
      "    52         1          3.0      3.0      0.0      print(\"Total elements:\", len(zs))\n",
      "    53                                               # start_time = timer()\n",
      "    54         1   28762205.0    3e+07     98.0      output,elapsed_time = calculate_z_serial_purepython(max_iterations, zs, cs)\n",
      "    55                                               # end_time = timer()\n",
      "    56                                               # secs = end_time - start_time\n",
      "    57                                               # print(calculate_z_serial_purepython.__name__ + \" took\", secs, \"seconds\")\n",
      "    58                                           \n",
      "    59                                               # This sum is expected for a 1000^2 grid with 300 iterations\n",
      "    60                                               # It ensures that our code evolves exactly as we'd intended\n",
      "    61                                               # assert sum(output) == 33219980\n",
      "    62         1          0.0      0.0      0.0      return elapsed_time\n",
      "\n",
      "Total time: 14.7397 s\n",
      "File: JuliaSet.py\n",
      "Function: calculate_z_serial_purepython at line 64\n",
      "\n",
      "Line #      Hits         Time  Per Hit   % Time  Line Contents\n",
      "==============================================================\n",
      "    64                                           @timefn\n",
      "    65                                           @profile\n",
      "    66                                           def calculate_z_serial_purepython(maxiter, zs, cs):\n",
      "    67                                               \"\"\"Calculate output list using Julia update rule\"\"\"\n",
      "    68         1        627.0    627.0      0.0      output = [0] * len(zs)\n",
      "    69   1000001     130016.0      0.1      0.9      for i in range(len(zs)):\n",
      "    70   1000000      91281.0      0.1      0.6          n = 0\n",
      "    71   1000000     124277.0      0.1      0.8          z = zs[i]\n",
      "    72   1000000      95017.0      0.1      0.6          c = cs[i]\n",
      "    73  34219980    6605905.0      0.2     44.8          while abs(z) < 2 and n < maxiter:\n",
      "    74  33219980    3900265.0      0.1     26.5              z = z * z + c\n",
      "    75  33219980    3678233.0      0.1     25.0              n += 1\n",
      "    76   1000000     114121.0      0.1      0.8          output[i] = n\n",
      "    77         1          1.0      1.0      0.0      return output\n",
      "\n"
     ]
    }
   ],
   "source": [
    "!python -m line_profiler JuliaSet.py.lprof"
   ]
  },
  {
   "cell_type": "code",
   "execution_count": 11,
   "metadata": {},
   "outputs": [
    {
     "name": "stdout",
     "output_type": "stream",
     "text": [
      "Length of x: 1000\n",
      "Total elements: 1000000\n",
      "@timefn: calculate_z_serial_purepython took 3.652779625 seconds\n",
      "@timefn: calc_pure_python took 3.872810417 seconds\n"
     ]
    }
   ],
   "source": [
    "!python JuliaSet.py"
   ]
  },
  {
   "cell_type": "markdown",
   "metadata": {},
   "source": [
    "## Task 1.4 Memory-profile the Juliaset code. Use the memory_profiler and mprof to profile the computation in JuliaSet code. \n",
    "\n",
    "reduce the problem size to 100x100\n",
    "\n",
    "Measure the overhead:\n",
    "\n",
    "without mem profiler: 0.3s\n",
    "\n",
    "memory_profiler: 15.0s -0.3s = 14.7s\n",
    "\n",
    "mprof: 0.8s -0.3s = 0.5s"
   ]
  },
  {
   "cell_type": "code",
   "execution_count": 24,
   "metadata": {},
   "outputs": [
    {
     "name": "stdout",
     "output_type": "stream",
     "text": [
      "Length of x: 100\n",
      "Total elements: 10000\n",
      "@timefn: calculate_z_serial_purepython took 0.036262249999999996 seconds\n",
      "@timefn: calc_pure_python took 0.038452792 seconds\n"
     ]
    }
   ],
   "source": [
    "!python JuliaSet.py"
   ]
  },
  {
   "cell_type": "code",
   "execution_count": 13,
   "metadata": {},
   "outputs": [
    {
     "name": "stdout",
     "output_type": "stream",
     "text": [
      "Length of x: 100\n",
      "Total elements: 10000\n",
      "@timefn: calculate_z_serial_purepython took 13.924193667 seconds\n",
      "@timefn: calc_pure_python took 14.334788083000001 seconds\n",
      "Filename: JuliaSet.py\n",
      "\n",
      "Line #    Mem usage    Increment  Occurrences   Line Contents\n",
      "=============================================================\n",
      "    23   45.391 MiB   45.391 MiB           1   @timefn\n",
      "    24                                         @profile\n",
      "    25                                         def calc_pure_python(desired_width, max_iterations):\n",
      "    26                                             \"\"\"Create a list of complex coordinates (zs) and complex parameters (cs),\n",
      "    27                                             build Julia set\"\"\"\n",
      "    28   45.391 MiB    0.000 MiB           1       x_step = (x2 - x1) / desired_width\n",
      "    29   45.391 MiB    0.000 MiB           1       y_step = (y1 - y2) / desired_width\n",
      "    30   45.391 MiB    0.000 MiB           1       x = []\n",
      "    31   45.391 MiB    0.000 MiB           1       y = []\n",
      "    32   45.391 MiB    0.000 MiB           1       ycoord = y2\n",
      "    33   45.391 MiB    0.000 MiB         101       while ycoord > y1:\n",
      "    34   45.391 MiB    0.000 MiB         100           y.append(ycoord)\n",
      "    35   45.391 MiB    0.000 MiB         100           ycoord += y_step\n",
      "    36   45.391 MiB    0.000 MiB           1       xcoord = x1\n",
      "    37   45.391 MiB    0.000 MiB         101       while xcoord < x2:\n",
      "    38   45.391 MiB    0.000 MiB         100           x.append(xcoord)\n",
      "    39   45.391 MiB    0.000 MiB         100           xcoord += x_step\n",
      "    40                                             # build a list of coordinates and the initial condition for each cell.\n",
      "    41                                             # Note that our initial condition is a constant and could easily be removed,\n",
      "    42                                             # we use it to simulate a real-world scenario with several inputs to our\n",
      "    43                                             # function\n",
      "    44   45.391 MiB    0.000 MiB           1       zs = []\n",
      "    45   45.391 MiB    0.000 MiB           1       cs = []\n",
      "    46   46.078 MiB    0.000 MiB         101       for ycoord in y:\n",
      "    47   46.078 MiB    0.000 MiB       10100           for xcoord in x:\n",
      "    48   46.078 MiB    0.609 MiB       10000               zs.append(complex(xcoord, ycoord))\n",
      "    49   46.078 MiB    0.078 MiB       10000               cs.append(complex(c_real, c_imag))\n",
      "    50                                         \n",
      "    51   46.078 MiB    0.000 MiB           1       print(\"Length of x:\", len(x))\n",
      "    52   46.078 MiB    0.000 MiB           1       print(\"Total elements:\", len(zs))\n",
      "    53                                             # start_time = timer()\n",
      "    54   46.312 MiB   46.312 MiB           1       output,elapsed_time = calculate_z_serial_purepython(max_iterations, zs, cs)\n",
      "    55                                             # end_time = timer()\n",
      "    56                                             # secs = end_time - start_time\n",
      "    57                                             # print(calculate_z_serial_purepython.__name__ + \" took\", secs, \"seconds\")\n",
      "    58                                         \n",
      "    59                                             # This sum is expected for a 1000^2 grid with 300 iterations\n",
      "    60                                             # It ensures that our code evolves exactly as we'd intended\n",
      "    61                                             # assert sum(output) == 33219980\n",
      "    62   46.312 MiB    0.000 MiB           1       return elapsed_time\n",
      "\n",
      "\n",
      "Filename: JuliaSet.py\n",
      "\n",
      "Line #    Mem usage    Increment  Occurrences   Line Contents\n",
      "=============================================================\n",
      "    64   46.078 MiB   46.078 MiB           1   @timefn\n",
      "    65                                         @profile\n",
      "    66                                         def calculate_z_serial_purepython(maxiter, zs, cs):\n",
      "    67                                             \"\"\"Calculate output list using Julia update rule\"\"\"\n",
      "    68   46.156 MiB    0.078 MiB           1       output = [0] * len(zs)\n",
      "    69   46.312 MiB    0.000 MiB       10001       for i in range(len(zs)):\n",
      "    70   46.312 MiB    0.000 MiB       10000           n = 0\n",
      "    71   46.312 MiB    0.000 MiB       10000           z = zs[i]\n",
      "    72   46.312 MiB    0.000 MiB       10000           c = cs[i]\n",
      "    73   46.312 MiB    0.031 MiB      344236           while abs(z) < 2 and n < maxiter:\n",
      "    74   46.312 MiB    0.094 MiB      334236               z = z * z + c\n",
      "    75   46.312 MiB    0.031 MiB      334236               n += 1\n",
      "    76   46.312 MiB    0.000 MiB       10000           output[i] = n\n",
      "    77   46.312 MiB    0.000 MiB           1       return output\n",
      "\n",
      "\n"
     ]
    }
   ],
   "source": [
    "!python -m memory_profiler JuliaSet.py"
   ]
  },
  {
   "cell_type": "code",
   "execution_count": 14,
   "metadata": {},
   "outputs": [
    {
     "name": "stdout",
     "output_type": "stream",
     "text": [
      "mprof.py: Sampling memory every 0.1s\n",
      "running new process\n",
      "running as a Python program...\n",
      "Length of x: 100\n",
      "Total elements: 10000\n",
      "@timefn: calculate_z_serial_purepython took 0.03536866699999999 seconds\n",
      "@timefn: calc_pure_python took 0.03769866599999999 seconds\n"
     ]
    }
   ],
   "source": [
    "!python -m mprof run JuliaSet.py"
   ]
  },
  {
   "cell_type": "code",
   "execution_count": 22,
   "metadata": {},
   "outputs": [
    {
     "name": "stdout",
     "output_type": "stream",
     "text": [
      "Figure(1260x540)\n"
     ]
    }
   ],
   "source": [
    "import matplotlib.pyplot as plt\n",
    "%matplotlib inline\n",
    "!python -m mprof plot mprofile_20250217101954.dat"
   ]
  },
  {
   "cell_type": "markdown",
   "metadata": {},
   "source": [
    "# Exercise II: Profiling Diffusion Process Code \n",
    "## Task 2.1 Profile the diffusion code with cProfile and line_profiler the computation."
   ]
  },
  {
   "cell_type": "code",
   "execution_count": 27,
   "metadata": {},
   "outputs": [
    {
     "name": "stdout",
     "output_type": "stream",
     "text": [
      "         105 function calls in 7.455 seconds\n",
      "\n",
      "   Ordered by: cumulative time\n",
      "\n",
      "   ncalls  tottime  percall  cumtime  percall filename:lineno(function)\n",
      "        1    0.000    0.000    7.455    7.455 {built-in method builtins.exec}\n",
      "        1    0.002    0.002    7.455    7.455 Diffusion.py:1(<module>)\n",
      "        1    0.090    0.090    7.453    7.453 Diffusion.py:18(run_experiment)\n",
      "       50    7.351    0.147    7.363    0.147 Diffusion.py:4(evolve)\n",
      "       50    0.012    0.000    0.012    0.000 Diffusion.py:6(<listcomp>)\n",
      "        1    0.001    0.001    0.001    0.001 Diffusion.py:21(<listcomp>)\n",
      "        1    0.000    0.000    0.000    0.000 {method 'disable' of '_lsprof.Profiler' objects}\n",
      "\n",
      "\n"
     ]
    }
   ],
   "source": [
    "!python -m cProfile -s cumulative Diffusion.py"
   ]
  },
  {
   "cell_type": "code",
   "execution_count": 30,
   "metadata": {},
   "outputs": [],
   "source": [
    "!python -m cProfile -o profile2.stats Diffusion.py"
   ]
  },
  {
   "cell_type": "code",
   "execution_count": 31,
   "metadata": {},
   "outputs": [
    {
     "name": "stdout",
     "output_type": "stream",
     "text": [
      "snakeviz web server started on 127.0.0.1:8080; enter Ctrl-C to exit\n",
      "http://127.0.0.1:8080/snakeviz/%2FUsers%2Fruimins%2FDownloads%2FFDD2356%2Fprofile2.stats\n",
      "^C\n",
      "\n",
      "Bye!\n"
     ]
    }
   ],
   "source": [
    "!python -m snakeviz profile2.stats --server"
   ]
  },
  {
   "cell_type": "code",
   "execution_count": 32,
   "metadata": {},
   "outputs": [
    {
     "name": "stdout",
     "output_type": "stream",
     "text": [
      "Could not find script Difussion.py\n",
      "Traceback (most recent call last):\n",
      "  File \"/Users/ruimins/.pyenv/versions/3.9.12/lib/python3.9/runpy.py\", line 197, in _run_module_as_main\n",
      "    return _run_code(code, main_globals, None,\n",
      "  File \"/Users/ruimins/.pyenv/versions/3.9.12/lib/python3.9/runpy.py\", line 87, in _run_code\n",
      "    exec(code, run_globals)\n",
      "  File \"/Users/ruimins/Downloads/FDD2356/FDD2356/lib/python3.9/site-packages/line_profiler/__main__.py\", line 4, in <module>\n",
      "    main()\n",
      "  File \"/Users/ruimins/Downloads/FDD2356/FDD2356/lib/python3.9/site-packages/line_profiler/line_profiler.py\", line 539, in main\n",
      "    lstats = load_stats(args.profile_output)\n",
      "  File \"/Users/ruimins/Downloads/FDD2356/FDD2356/lib/python3.9/site-packages/line_profiler/line_profiler.py\", line 489, in load_stats\n",
      "    with open(filename, 'rb') as f:\n",
      "FileNotFoundError: [Errno 2] No such file or directory: 'Difussion.py.lprof'\n"
     ]
    }
   ],
   "source": [
    "!python -m kernprof -l Diffusion.py\n",
    "!python -m line_profiler Diffusion.py.lprof"
   ]
  }
 ],
 "metadata": {
  "kernelspec": {
   "display_name": "FDD2356",
   "language": "python",
   "name": "python3"
  },
  "language_info": {
   "codemirror_mode": {
    "name": "ipython",
    "version": 3
   },
   "file_extension": ".py",
   "mimetype": "text/x-python",
   "name": "python",
   "nbconvert_exporter": "python",
   "pygments_lexer": "ipython3",
   "version": "3.9.12"
  }
 },
 "nbformat": 4,
 "nbformat_minor": 2
}
