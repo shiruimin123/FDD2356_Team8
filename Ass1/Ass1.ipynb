{
 "cells": [
  {
   "cell_type": "markdown",
   "metadata": {},
   "source": [
    "# Exercise I: Profiling the Julia Set Code\n",
    "## Task 1.1 Calculate the Clock Granularity of different Python Timers\n",
    "\n",
    "I run 100 times and caculate the average. The clock granularity is listed following \n",
    "\n",
    "time.time(): 7.152557373046875e-07 s = 715.26 ns\n",
    "\n",
    "timeit: 1.224899997032125e-07 s = 122.49 ns\n",
    "\n",
    "time.time_ns(): 768.0 ns"
   ]
  },
  {
   "cell_type": "code",
   "execution_count": 1,
   "metadata": {},
   "outputs": [],
   "source": [
    "import numpy as np\n",
    "def checktick(time_func):\n",
    "   M = 200\n",
    "   timesfound = np.empty((M,))\n",
    "   for i in range(M):\n",
    "      t1 =  time_func() # get timestamp from timer\n",
    "      t2 = time_func() # get timestamp from timer\n",
    "      while (t2 - t1) < 1e-16: # if zero then we are below clock granularity, retake timing\n",
    "          t2 = time_func() # get timestamp from timer\n",
    "      t1 = t2 # this is outside the loop\n",
    "      timesfound[i] = t1 # record the time stamp\n",
    "   minDelta = 1000000\n",
    "   Delta = np.diff(timesfound) # it should be cast to int only when needed\n",
    "   minDelta = Delta.min()\n",
    "   return minDelta"
   ]
  },
  {
   "cell_type": "code",
   "execution_count": 2,
   "metadata": {},
   "outputs": [
    {
     "name": "stdout",
     "output_type": "stream",
     "text": [
      "The clock granularity of time.time():  715.2557373046875 ns\n"
     ]
    }
   ],
   "source": [
    "import time\n",
    "results = [checktick(time.time) for _ in range(100)]\n",
    "average_tick = np.mean(results)\n",
    "print(\"The clock granularity of time.time(): \",average_tick * (1e9), \"ns\")"
   ]
  },
  {
   "cell_type": "code",
   "execution_count": 3,
   "metadata": {},
   "outputs": [
    {
     "name": "stdout",
     "output_type": "stream",
     "text": [
      "The clock granularity of timeit()  112.87999993392361 ns\n"
     ]
    }
   ],
   "source": [
    "from timeit import default_timer as timer\n",
    "results = [checktick(timer) for _ in range(100)]\n",
    "average_tick = np.mean(results)\n",
    "print(\"The clock granularity of timeit() \",average_tick* (1e9), \"ns\")"
   ]
  },
  {
   "cell_type": "code",
   "execution_count": 4,
   "metadata": {},
   "outputs": [
    {
     "name": "stdout",
     "output_type": "stream",
     "text": [
      "The clock granularity of time.time_ns()  768.0 ns\n"
     ]
    }
   ],
   "source": [
    "import time\n",
    "results = [checktick(time.time_ns) for _ in range(100)]\n",
    "average_tick = np.mean(results)\n",
    "print(\"The clock granularity of time.time_ns() \",average_tick, \"ns\")"
   ]
  },
  {
   "cell_type": "markdown",
   "metadata": {},
   "source": [
    "## Task 1.2 Timing the Julia set code functions. \n",
    "\n",
    "The best timer is timeit\n",
    "The average of execution time in calc_pure_python:  0.9094791666999998 s\n",
    "\n",
    "The standard deviation of execution time in calc_pure_python:  0.02674339780011118 s\n",
    "\n",
    "The average of execution time in calculate_z_serial_purepython:  0.6889902166999997 s\n",
    "\n",
    "The standard deviation of execution time in calculate_z_serial_purepython:  0.017586994181006566 s\n",
    "\n",
    "The value of standard deviation is greater than the clock granularity "
   ]
  },
  {
   "cell_type": "code",
   "execution_count": 5,
   "metadata": {},
   "outputs": [],
   "source": [
    "import JuliaSet"
   ]
  },
  {
   "cell_type": "code",
   "execution_count": 6,
   "metadata": {},
   "outputs": [
    {
     "name": "stdout",
     "output_type": "stream",
     "text": [
      "Length of x: 1000\n",
      "Total elements: 1000000\n",
      "@timefn: calculate_z_serial_purepython took 0.668167333 seconds\n",
      "@timefn: calc_pure_python took 0.8915752079999999 seconds\n",
      "Length of x: 1000\n",
      "Total elements: 1000000\n",
      "@timefn: calculate_z_serial_purepython took 0.6748907500000001 seconds\n",
      "@timefn: calc_pure_python took 0.8858226670000002 seconds\n",
      "Length of x: 1000\n",
      "Total elements: 1000000\n",
      "@timefn: calculate_z_serial_purepython took 0.6728489579999999 seconds\n",
      "@timefn: calc_pure_python took 0.8840081250000003 seconds\n",
      "Length of x: 1000\n",
      "Total elements: 1000000\n",
      "@timefn: calculate_z_serial_purepython took 0.6732088750000003 seconds\n",
      "@timefn: calc_pure_python took 0.8860660829999998 seconds\n",
      "Length of x: 1000\n",
      "Total elements: 1000000\n",
      "@timefn: calculate_z_serial_purepython took 0.6669616249999999 seconds\n",
      "@timefn: calc_pure_python took 0.8767898339999993 seconds\n",
      "Length of x: 1000\n",
      "Total elements: 1000000\n",
      "@timefn: calculate_z_serial_purepython took 0.6648984169999999 seconds\n",
      "@timefn: calc_pure_python took 0.8755572500000008 seconds\n",
      "Length of x: 1000\n",
      "Total elements: 1000000\n",
      "@timefn: calculate_z_serial_purepython took 0.7314707080000007 seconds\n",
      "@timefn: calc_pure_python took 0.9433324579999995 seconds\n",
      "Length of x: 1000\n",
      "Total elements: 1000000\n",
      "@timefn: calculate_z_serial_purepython took 0.6975936250000006 seconds\n",
      "@timefn: calc_pure_python took 0.9121794159999999 seconds\n",
      "Length of x: 1000\n",
      "Total elements: 1000000\n",
      "@timefn: calculate_z_serial_purepython took 0.6668358329999986 seconds\n",
      "@timefn: calc_pure_python took 0.887115208 seconds\n",
      "Length of x: 1000\n",
      "Total elements: 1000000\n",
      "@timefn: calculate_z_serial_purepython took 0.6869390839999987 seconds\n",
      "@timefn: calc_pure_python took 0.8978707919999991 seconds\n"
     ]
    }
   ],
   "source": [
    "calculate_z_serial_purepython=[]\n",
    "calc_pure_python=[]\n",
    "for _ in range(10):\n",
    "    time1,time2=JuliaSet.calc_pure_python(desired_width=1000, max_iterations=30)\n",
    "    calculate_z_serial_purepython.append(time1)\n",
    "    calc_pure_python.append(time2)\n",
    "    "
   ]
  },
  {
   "cell_type": "code",
   "execution_count": 7,
   "metadata": {},
   "outputs": [
    {
     "name": "stdout",
     "output_type": "stream",
     "text": [
      "The average execution time of calc_pure_python:  0.8940317040999999\n",
      "The standard dev execution time of calc_pure_python:  0.020271528353383916\n",
      "The average execution time of calculate_z_serial_purepython:  0.6803815207999998\n",
      "The standard dev execution time of calculate_z_serial_purepython:  0.020656422937376365\n"
     ]
    }
   ],
   "source": [
    "import statistics\n",
    "print(\"The average execution time of calc_pure_python: \",statistics.mean(calc_pure_python) )\n",
    "print(\"The standard dev execution time of calc_pure_python: \",statistics.stdev(calc_pure_python) )\n",
    "print(\"The average execution time of calculate_z_serial_purepython: \",statistics.mean(calculate_z_serial_purepython) )\n",
    "print(\"The standard dev execution time of calculate_z_serial_purepython: \",statistics.stdev(calculate_z_serial_purepython) )"
   ]
  },
  {
   "cell_type": "markdown",
   "metadata": {},
   "source": [
    "## Task 1.3 Profile the Julia set code with cProfile and line_profiler the computation.\n",
    "\n",
    "Measure the time overhead of profiler:\n",
    "\n",
    "without profiler: 4.2s\n",
    "\n",
    "cProfile: 5.5s - 4.2s = 1.3s\n",
    "\n",
    "line_profiler: 30.1s - 4.2s = 25.9s\n"
   ]
  },
  {
   "cell_type": "code",
   "execution_count": 8,
   "metadata": {},
   "outputs": [
    {
     "name": "stdout",
     "output_type": "stream",
     "text": [
      "Length of x: 100\n",
      "Total elements: 10000\n",
      "@timefn: calculate_z_serial_purepython took 0.048259916 seconds\n",
      "@timefn: calc_pure_python took 0.051671125 seconds\n",
      "         364792 function calls (364785 primitive calls) in 0.052 seconds\n",
      "\n",
      "   Ordered by: cumulative time\n",
      "\n",
      "   ncalls  tottime  percall  cumtime  percall filename:lineno(function)\n",
      "      2/1    0.000    0.000    0.052    0.052 {built-in method builtins.exec}\n",
      "        1    0.000    0.000    0.052    0.052 JuliaSet.py:1(<module>)\n",
      "      2/1    0.000    0.000    0.052    0.052 JuliaSet.py:11(measure_time)\n",
      "        1    0.003    0.003    0.052    0.052 JuliaSet.py:23(calc_pure_python)\n",
      "        1    0.038    0.038    0.048    0.048 JuliaSet.py:64(calculate_z_serial_purepython)\n",
      "   344236    0.010    0.000    0.010    0.000 {built-in method builtins.abs}\n",
      "    20200    0.001    0.000    0.001    0.000 {method 'append' of 'list' objects}\n",
      "      2/1    0.000    0.000    0.000    0.000 <frozen importlib._bootstrap>:1002(_find_and_load)\n",
      "      2/1    0.000    0.000    0.000    0.000 <frozen importlib._bootstrap>:967(_find_and_load_unlocked)\n",
      "      2/1    0.000    0.000    0.000    0.000 <frozen importlib._bootstrap>:659(_load_unlocked)\n",
      "        1    0.000    0.000    0.000    0.000 <frozen importlib._bootstrap_external>:844(exec_module)\n",
      "        1    0.000    0.000    0.000    0.000 <frozen importlib._bootstrap_external>:916(get_code)\n",
      "        1    0.000    0.000    0.000    0.000 <frozen importlib._bootstrap_external>:1036(get_data)\n",
      "        1    0.000    0.000    0.000    0.000 {method 'read' of '_io.BufferedReader' objects}\n",
      "        2    0.000    0.000    0.000    0.000 <frozen importlib._bootstrap>:901(_find_spec)\n",
      "        1    0.000    0.000    0.000    0.000 <frozen importlib._bootstrap_external>:1415(find_spec)\n",
      "        1    0.000    0.000    0.000    0.000 <frozen importlib._bootstrap_external>:1383(_get_spec)\n",
      "        4    0.000    0.000    0.000    0.000 {built-in method builtins.print}\n",
      "      3/1    0.000    0.000    0.000    0.000 <frozen importlib._bootstrap>:220(_call_with_frames_removed)\n",
      "        1    0.000    0.000    0.000    0.000 timeit.py:3(<module>)\n",
      "        3    0.000    0.000    0.000    0.000 <frozen importlib._bootstrap_external>:1514(find_spec)\n",
      "        1    0.000    0.000    0.000    0.000 <frozen importlib._bootstrap_external>:645(_compile_bytecode)\n",
      "        1    0.000    0.000    0.000    0.000 {built-in method marshal.loads}\n",
      "        2    0.000    0.000    0.000    0.000 <frozen importlib._bootstrap>:558(module_from_spec)\n",
      "        1    0.000    0.000    0.000    0.000 {built-in method io.open_code}\n",
      "        4    0.000    0.000    0.000    0.000 <frozen importlib._bootstrap_external>:1346(_path_importer_cache)\n",
      "        2    0.000    0.000    0.000    0.000 <frozen importlib._bootstrap>:486(_init_module_attrs)\n",
      "        1    0.000    0.000    0.000    0.000 {built-in method posix.getcwd}\n",
      "       16    0.000    0.000    0.000    0.000 <frozen importlib._bootstrap_external>:121(_path_join)\n",
      "        2    0.000    0.000    0.000    0.000 JuliaSet.py:10(timefn)\n",
      "        2    0.000    0.000    0.000    0.000 <frozen importlib._bootstrap>:156(__enter__)\n",
      "        5    0.000    0.000    0.000    0.000 <frozen importlib._bootstrap_external>:135(_path_stat)\n",
      "        2    0.000    0.000    0.000    0.000 <frozen importlib._bootstrap_external>:361(cache_from_source)\n",
      "        2    0.000    0.000    0.000    0.000 functools.py:35(update_wrapper)\n",
      "        5    0.000    0.000    0.000    0.000 {built-in method posix.stat}\n",
      "        1    0.000    0.000    0.000    0.000 <frozen importlib._bootstrap>:757(create_module)\n",
      "        2    0.000    0.000    0.000    0.000 <frozen importlib._bootstrap>:385(cached)\n",
      "        1    0.000    0.000    0.000    0.000 {built-in method builtins.__build_class__}\n",
      "        1    0.000    0.000    0.000    0.000 <frozen importlib._bootstrap_external>:491(_get_cached)\n",
      "       16    0.000    0.000    0.000    0.000 <frozen importlib._bootstrap_external>:123(<listcomp>)\n",
      "        1    0.000    0.000    0.000    0.000 {built-in method _imp.create_builtin}\n",
      "        2    0.000    0.000    0.000    0.000 <frozen importlib._bootstrap>:166(_get_module_lock)\n",
      "        2    0.000    0.000    0.000    0.000 <frozen importlib._bootstrap>:736(find_spec)\n",
      "       24    0.000    0.000    0.000    0.000 {built-in method builtins.getattr}\n",
      "        2    0.000    0.000    0.000    0.000 <frozen importlib._bootstrap_external>:127(_path_split)\n",
      "        2    0.000    0.000    0.000    0.000 <frozen importlib._bootstrap>:87(acquire)\n",
      "        1    0.000    0.000    0.000    0.000 <frozen importlib._bootstrap_external>:1509(_get_spec)\n",
      "        1    0.000    0.000    0.000    0.000 <frozen importlib._bootstrap_external>:154(_path_isfile)\n",
      "        2    0.000    0.000    0.000    0.000 <frozen importlib._bootstrap>:160(__exit__)\n",
      "        1    0.000    0.000    0.000    0.000 <frozen importlib._bootstrap>:415(spec_from_loader)\n",
      "        1    0.000    0.000    0.000    0.000 <frozen importlib._bootstrap_external>:145(_path_is_mode_type)\n",
      "        1    0.000    0.000    0.000    0.000 <frozen importlib._bootstrap_external>:560(_classify_pyc)\n",
      "        1    0.000    0.000    0.000    0.000 <frozen importlib._bootstrap_external>:1077(path_stats)\n",
      "        2    0.000    0.000    0.000    0.000 <frozen importlib._bootstrap>:58(__init__)\n",
      "       18    0.000    0.000    0.000    0.000 <frozen importlib._bootstrap>:231(_verbose_message)\n",
      "        1    0.000    0.000    0.000    0.000 <frozen importlib._bootstrap_external>:696(spec_from_file_location)\n",
      "        2    0.000    0.000    0.000    0.000 {built-in method builtins.max}\n",
      "        2    0.000    0.000    0.000    0.000 <frozen importlib._bootstrap>:112(release)\n",
      "        3    0.000    0.000    0.000    0.000 <frozen importlib._bootstrap_external>:79(_unpack_uint32)\n",
      "       34    0.000    0.000    0.000    0.000 {method 'rstrip' of 'str' objects}\n",
      "       18    0.000    0.000    0.000    0.000 {method 'join' of 'str' objects}\n",
      "        1    0.000    0.000    0.000    0.000 {method '__exit__' of '_io._IOBase' objects}\n",
      "        1    0.000    0.000    0.000    0.000 <frozen importlib._bootstrap_external>:593(_validate_timestamp_pyc)\n",
      "        2    0.000    0.000    0.000    0.000 <frozen importlib._bootstrap>:185(cb)\n",
      "        9    0.000    0.000    0.000    0.000 {built-in method builtins.hasattr}\n",
      "        4    0.000    0.000    0.000    0.000 <frozen importlib._bootstrap_external>:129(<genexpr>)\n",
      "        4    0.000    0.000    0.000    0.000 {built-in method time.perf_counter}\n",
      "        1    0.000    0.000    0.000    0.000 <frozen importlib._bootstrap>:765(exec_module)\n",
      "        4    0.000    0.000    0.000    0.000 <frozen importlib._bootstrap>:878(__exit__)\n",
      "        4    0.000    0.000    0.000    0.000 <frozen importlib._bootstrap>:874(__enter__)\n",
      "        2    0.000    0.000    0.000    0.000 <frozen importlib._bootstrap>:351(__init__)\n",
      "        9    0.000    0.000    0.000    0.000 {method 'rpartition' of 'str' objects}\n",
      "        1    0.000    0.000    0.000    0.000 timeit.py:83(Timer)\n",
      "        2    0.000    0.000    0.000    0.000 <frozen importlib._bootstrap>:398(parent)\n",
      "        2    0.000    0.000    0.000    0.000 {built-in method _imp.is_builtin}\n",
      "        3    0.000    0.000    0.000    0.000 <frozen importlib._bootstrap_external>:64(_relax_case)\n",
      "        1    0.000    0.000    0.000    0.000 <frozen importlib._bootstrap>:811(find_spec)\n",
      "        8    0.000    0.000    0.000    0.000 {built-in method _imp.release_lock}\n",
      "        1    0.000    0.000    0.000    0.000 <frozen importlib._bootstrap>:241(_requires_builtin_wrapper)\n",
      "        1    0.000    0.000    0.000    0.000 <frozen importlib._bootstrap_external>:523(_check_name_wrapper)\n",
      "        8    0.000    0.000    0.000    0.000 {built-in method builtins.len}\n",
      "        8    0.000    0.000    0.000    0.000 {built-in method _imp.acquire_lock}\n",
      "        4    0.000    0.000    0.000    0.000 {built-in method _thread.allocate_lock}\n",
      "        2    0.000    0.000    0.000    0.000 functools.py:65(wraps)\n",
      "       10    0.000    0.000    0.000    0.000 {built-in method builtins.setattr}\n",
      "        4    0.000    0.000    0.000    0.000 {method '__exit__' of '_thread.lock' objects}\n",
      "        6    0.000    0.000    0.000    0.000 {built-in method builtins.isinstance}\n",
      "        2    0.000    0.000    0.000    0.000 <frozen importlib._bootstrap>:152(__init__)\n",
      "        1    0.000    0.000    0.000    0.000 <frozen importlib._bootstrap>:35(_new_module)\n",
      "        4    0.000    0.000    0.000    0.000 {method 'get' of 'dict' objects}\n",
      "        2    0.000    0.000    0.000    0.000 {method 'update' of 'dict' objects}\n",
      "        4    0.000    0.000    0.000    0.000 {built-in method _thread.get_ident}\n",
      "        1    0.000    0.000    0.000    0.000 {method 'disable' of '_lsprof.Profiler' objects}\n",
      "        2    0.000    0.000    0.000    0.000 {method 'rfind' of 'str' objects}\n",
      "        3    0.000    0.000    0.000    0.000 {built-in method from_bytes}\n",
      "        2    0.000    0.000    0.000    0.000 <frozen importlib._bootstrap>:406(has_location)\n",
      "        1    0.000    0.000    0.000    0.000 <frozen importlib._bootstrap_external>:1006(__init__)\n",
      "        2    0.000    0.000    0.000    0.000 {method 'pop' of 'dict' objects}\n",
      "        1    0.000    0.000    0.000    0.000 {method 'endswith' of 'str' objects}\n",
      "        3    0.000    0.000    0.000    0.000 {built-in method posix.fspath}\n",
      "        1    0.000    0.000    0.000    0.000 {built-in method _imp._fix_co_filename}\n",
      "        1    0.000    0.000    0.000    0.000 <frozen importlib._bootstrap>:782(is_package)\n",
      "        1    0.000    0.000    0.000    0.000 {built-in method _imp.exec_builtin}\n",
      "        1    0.000    0.000    0.000    0.000 <frozen importlib._bootstrap_external>:841(create_module)\n",
      "        1    0.000    0.000    0.000    0.000 {built-in method _imp.is_frozen}\n",
      "        1    0.000    0.000    0.000    0.000 <frozen importlib._bootstrap_external>:1031(get_filename)\n",
      "\n",
      "\n"
     ]
    }
   ],
   "source": [
    "!python -m cProfile -s cumulative JuliaSet.py"
   ]
  },
  {
   "cell_type": "code",
   "execution_count": 9,
   "metadata": {},
   "outputs": [
    {
     "name": "stdout",
     "output_type": "stream",
     "text": [
      "Length of x: 100\n",
      "Total elements: 10000\n",
      "@timefn: calculate_z_serial_purepython took 0.047174917 seconds\n",
      "@timefn: calc_pure_python took 0.050659582999999994 seconds\n"
     ]
    }
   ],
   "source": [
    "!python -m cProfile -o profile.stats JuliaSet.py"
   ]
  },
  {
   "cell_type": "code",
   "execution_count": 10,
   "metadata": {},
   "outputs": [
    {
     "name": "stdout",
     "output_type": "stream",
     "text": [
      "snakeviz web server started on 127.0.0.1:8080; enter Ctrl-C to exit\n",
      "http://127.0.0.1:8080/snakeviz/%2FUsers%2Fruimins%2FDownloads%2FFDD2356%2FAss1%2Fprofile.stats\n",
      "^C\n",
      "\n",
      "Bye!\n"
     ]
    }
   ],
   "source": [
    "\n",
    "!python -m snakeviz profile.stats --server"
   ]
  },
  {
   "cell_type": "code",
   "execution_count": 9,
   "metadata": {},
   "outputs": [
    {
     "name": "stdout",
     "output_type": "stream",
     "text": [
      "Length of x: 1000\n",
      "Total elements: 1000000\n",
      "@timefn: calculate_z_serial_purepython took 28.762626209 seconds\n",
      "@timefn: calc_pure_python took 29.76298125 seconds\n",
      "Wrote profile results to JuliaSet.py.lprof\n",
      "Inspect results with:\n",
      "python -m line_profiler -rmt \"JuliaSet.py.lprof\"\n"
     ]
    }
   ],
   "source": [
    "!python -m kernprof -l JuliaSet.py"
   ]
  },
  {
   "cell_type": "code",
   "execution_count": 10,
   "metadata": {},
   "outputs": [
    {
     "name": "stdout",
     "output_type": "stream",
     "text": [
      "Timer unit: 1e-06 s\n",
      "\n",
      "Total time: 29.3396 s\n",
      "File: JuliaSet.py\n",
      "Function: calc_pure_python at line 23\n",
      "\n",
      "Line #      Hits         Time  Per Hit   % Time  Line Contents\n",
      "==============================================================\n",
      "    23                                           @timefn\n",
      "    24                                           @profile\n",
      "    25                                           def calc_pure_python(desired_width, max_iterations):\n",
      "    26                                               \"\"\"Create a list of complex coordinates (zs) and complex parameters (cs),\n",
      "    27                                               build Julia set\"\"\"\n",
      "    28         1          1.0      1.0      0.0      x_step = (x2 - x1) / desired_width\n",
      "    29         1          0.0      0.0      0.0      y_step = (y1 - y2) / desired_width\n",
      "    30         1          1.0      1.0      0.0      x = []\n",
      "    31         1          0.0      0.0      0.0      y = []\n",
      "    32         1          0.0      0.0      0.0      ycoord = y2\n",
      "    33      1001        125.0      0.1      0.0      while ycoord > y1:\n",
      "    34      1000        137.0      0.1      0.0          y.append(ycoord)\n",
      "    35      1000        109.0      0.1      0.0          ycoord += y_step\n",
      "    36         1          0.0      0.0      0.0      xcoord = x1\n",
      "    37      1001        136.0      0.1      0.0      while xcoord < x2:\n",
      "    38      1000        152.0      0.2      0.0          x.append(xcoord)\n",
      "    39      1000        123.0      0.1      0.0          xcoord += x_step\n",
      "    40                                               # build a list of coordinates and the initial condition for each cell.\n",
      "    41                                               # Note that our initial condition is a constant and could easily be removed,\n",
      "    42                                               # we use it to simulate a real-world scenario with several inputs to our\n",
      "    43                                               # function\n",
      "    44         1          0.0      0.0      0.0      zs = []\n",
      "    45         1          0.0      0.0      0.0      cs = []\n",
      "    46      1001        127.0      0.1      0.0      for ycoord in y:\n",
      "    47   1001000     123105.0      0.1      0.4          for xcoord in x:\n",
      "    48   1000000     220258.0      0.2      0.8              zs.append(complex(xcoord, ycoord))\n",
      "    49   1000000     233081.0      0.2      0.8              cs.append(complex(c_real, c_imag))\n",
      "    50                                           \n",
      "    51         1         24.0     24.0      0.0      print(\"Length of x:\", len(x))\n",
      "    52         1          3.0      3.0      0.0      print(\"Total elements:\", len(zs))\n",
      "    53                                               # start_time = timer()\n",
      "    54         1   28762205.0    3e+07     98.0      output,elapsed_time = calculate_z_serial_purepython(max_iterations, zs, cs)\n",
      "    55                                               # end_time = timer()\n",
      "    56                                               # secs = end_time - start_time\n",
      "    57                                               # print(calculate_z_serial_purepython.__name__ + \" took\", secs, \"seconds\")\n",
      "    58                                           \n",
      "    59                                               # This sum is expected for a 1000^2 grid with 300 iterations\n",
      "    60                                               # It ensures that our code evolves exactly as we'd intended\n",
      "    61                                               # assert sum(output) == 33219980\n",
      "    62         1          0.0      0.0      0.0      return elapsed_time\n",
      "\n",
      "Total time: 14.7397 s\n",
      "File: JuliaSet.py\n",
      "Function: calculate_z_serial_purepython at line 64\n",
      "\n",
      "Line #      Hits         Time  Per Hit   % Time  Line Contents\n",
      "==============================================================\n",
      "    64                                           @timefn\n",
      "    65                                           @profile\n",
      "    66                                           def calculate_z_serial_purepython(maxiter, zs, cs):\n",
      "    67                                               \"\"\"Calculate output list using Julia update rule\"\"\"\n",
      "    68         1        627.0    627.0      0.0      output = [0] * len(zs)\n",
      "    69   1000001     130016.0      0.1      0.9      for i in range(len(zs)):\n",
      "    70   1000000      91281.0      0.1      0.6          n = 0\n",
      "    71   1000000     124277.0      0.1      0.8          z = zs[i]\n",
      "    72   1000000      95017.0      0.1      0.6          c = cs[i]\n",
      "    73  34219980    6605905.0      0.2     44.8          while abs(z) < 2 and n < maxiter:\n",
      "    74  33219980    3900265.0      0.1     26.5              z = z * z + c\n",
      "    75  33219980    3678233.0      0.1     25.0              n += 1\n",
      "    76   1000000     114121.0      0.1      0.8          output[i] = n\n",
      "    77         1          1.0      1.0      0.0      return output\n",
      "\n"
     ]
    }
   ],
   "source": [
    "!python -m line_profiler JuliaSet.py.lprof"
   ]
  },
  {
   "cell_type": "code",
   "execution_count": 11,
   "metadata": {},
   "outputs": [
    {
     "name": "stdout",
     "output_type": "stream",
     "text": [
      "Length of x: 1000\n",
      "Total elements: 1000000\n",
      "@timefn: calculate_z_serial_purepython took 3.652779625 seconds\n",
      "@timefn: calc_pure_python took 3.872810417 seconds\n"
     ]
    }
   ],
   "source": [
    "!python JuliaSet.py"
   ]
  },
  {
   "cell_type": "markdown",
   "metadata": {},
   "source": [
    "## Task 1.4 Memory-profile the Juliaset code. Use the memory_profiler and mprof to profile the computation in JuliaSet code. \n",
    "\n",
    "reduce the problem size to 100x100\n",
    "\n",
    "Measure the overhead:\n",
    "\n",
    "without mem profiler: 0.3s\n",
    "\n",
    "memory_profiler: 15.0s -0.3s = 14.7s\n",
    "\n",
    "mprof: 0.8s -0.3s = 0.5s"
   ]
  },
  {
   "cell_type": "code",
   "execution_count": 24,
   "metadata": {},
   "outputs": [
    {
     "name": "stdout",
     "output_type": "stream",
     "text": [
      "Length of x: 100\n",
      "Total elements: 10000\n",
      "@timefn: calculate_z_serial_purepython took 0.036262249999999996 seconds\n",
      "@timefn: calc_pure_python took 0.038452792 seconds\n"
     ]
    }
   ],
   "source": [
    "!python JuliaSet.py"
   ]
  },
  {
   "cell_type": "code",
   "execution_count": 13,
   "metadata": {},
   "outputs": [
    {
     "name": "stdout",
     "output_type": "stream",
     "text": [
      "Length of x: 100\n",
      "Total elements: 10000\n",
      "@timefn: calculate_z_serial_purepython took 13.924193667 seconds\n",
      "@timefn: calc_pure_python took 14.334788083000001 seconds\n",
      "Filename: JuliaSet.py\n",
      "\n",
      "Line #    Mem usage    Increment  Occurrences   Line Contents\n",
      "=============================================================\n",
      "    23   45.391 MiB   45.391 MiB           1   @timefn\n",
      "    24                                         @profile\n",
      "    25                                         def calc_pure_python(desired_width, max_iterations):\n",
      "    26                                             \"\"\"Create a list of complex coordinates (zs) and complex parameters (cs),\n",
      "    27                                             build Julia set\"\"\"\n",
      "    28   45.391 MiB    0.000 MiB           1       x_step = (x2 - x1) / desired_width\n",
      "    29   45.391 MiB    0.000 MiB           1       y_step = (y1 - y2) / desired_width\n",
      "    30   45.391 MiB    0.000 MiB           1       x = []\n",
      "    31   45.391 MiB    0.000 MiB           1       y = []\n",
      "    32   45.391 MiB    0.000 MiB           1       ycoord = y2\n",
      "    33   45.391 MiB    0.000 MiB         101       while ycoord > y1:\n",
      "    34   45.391 MiB    0.000 MiB         100           y.append(ycoord)\n",
      "    35   45.391 MiB    0.000 MiB         100           ycoord += y_step\n",
      "    36   45.391 MiB    0.000 MiB           1       xcoord = x1\n",
      "    37   45.391 MiB    0.000 MiB         101       while xcoord < x2:\n",
      "    38   45.391 MiB    0.000 MiB         100           x.append(xcoord)\n",
      "    39   45.391 MiB    0.000 MiB         100           xcoord += x_step\n",
      "    40                                             # build a list of coordinates and the initial condition for each cell.\n",
      "    41                                             # Note that our initial condition is a constant and could easily be removed,\n",
      "    42                                             # we use it to simulate a real-world scenario with several inputs to our\n",
      "    43                                             # function\n",
      "    44   45.391 MiB    0.000 MiB           1       zs = []\n",
      "    45   45.391 MiB    0.000 MiB           1       cs = []\n",
      "    46   46.078 MiB    0.000 MiB         101       for ycoord in y:\n",
      "    47   46.078 MiB    0.000 MiB       10100           for xcoord in x:\n",
      "    48   46.078 MiB    0.609 MiB       10000               zs.append(complex(xcoord, ycoord))\n",
      "    49   46.078 MiB    0.078 MiB       10000               cs.append(complex(c_real, c_imag))\n",
      "    50                                         \n",
      "    51   46.078 MiB    0.000 MiB           1       print(\"Length of x:\", len(x))\n",
      "    52   46.078 MiB    0.000 MiB           1       print(\"Total elements:\", len(zs))\n",
      "    53                                             # start_time = timer()\n",
      "    54   46.312 MiB   46.312 MiB           1       output,elapsed_time = calculate_z_serial_purepython(max_iterations, zs, cs)\n",
      "    55                                             # end_time = timer()\n",
      "    56                                             # secs = end_time - start_time\n",
      "    57                                             # print(calculate_z_serial_purepython.__name__ + \" took\", secs, \"seconds\")\n",
      "    58                                         \n",
      "    59                                             # This sum is expected for a 1000^2 grid with 300 iterations\n",
      "    60                                             # It ensures that our code evolves exactly as we'd intended\n",
      "    61                                             # assert sum(output) == 33219980\n",
      "    62   46.312 MiB    0.000 MiB           1       return elapsed_time\n",
      "\n",
      "\n",
      "Filename: JuliaSet.py\n",
      "\n",
      "Line #    Mem usage    Increment  Occurrences   Line Contents\n",
      "=============================================================\n",
      "    64   46.078 MiB   46.078 MiB           1   @timefn\n",
      "    65                                         @profile\n",
      "    66                                         def calculate_z_serial_purepython(maxiter, zs, cs):\n",
      "    67                                             \"\"\"Calculate output list using Julia update rule\"\"\"\n",
      "    68   46.156 MiB    0.078 MiB           1       output = [0] * len(zs)\n",
      "    69   46.312 MiB    0.000 MiB       10001       for i in range(len(zs)):\n",
      "    70   46.312 MiB    0.000 MiB       10000           n = 0\n",
      "    71   46.312 MiB    0.000 MiB       10000           z = zs[i]\n",
      "    72   46.312 MiB    0.000 MiB       10000           c = cs[i]\n",
      "    73   46.312 MiB    0.031 MiB      344236           while abs(z) < 2 and n < maxiter:\n",
      "    74   46.312 MiB    0.094 MiB      334236               z = z * z + c\n",
      "    75   46.312 MiB    0.031 MiB      334236               n += 1\n",
      "    76   46.312 MiB    0.000 MiB       10000           output[i] = n\n",
      "    77   46.312 MiB    0.000 MiB           1       return output\n",
      "\n",
      "\n"
     ]
    }
   ],
   "source": [
    "!python -m memory_profiler JuliaSet.py"
   ]
  },
  {
   "cell_type": "code",
   "execution_count": 14,
   "metadata": {},
   "outputs": [
    {
     "name": "stdout",
     "output_type": "stream",
     "text": [
      "mprof.py: Sampling memory every 0.1s\n",
      "running new process\n",
      "running as a Python program...\n",
      "Length of x: 100\n",
      "Total elements: 10000\n",
      "@timefn: calculate_z_serial_purepython took 0.03536866699999999 seconds\n",
      "@timefn: calc_pure_python took 0.03769866599999999 seconds\n"
     ]
    }
   ],
   "source": [
    "!python -m mprof run JuliaSet.py"
   ]
  },
  {
   "cell_type": "code",
   "execution_count": 22,
   "metadata": {},
   "outputs": [
    {
     "name": "stdout",
     "output_type": "stream",
     "text": [
      "Figure(1260x540)\n"
     ]
    }
   ],
   "source": [
    "import matplotlib.pyplot as plt\n",
    "%matplotlib inline\n",
    "!python -m mprof plot mprofile_20250217101954.dat"
   ]
  },
  {
   "cell_type": "markdown",
   "metadata": {},
   "source": [
    "# Exercise II: Profiling Diffusion Process Code \n",
    "## Task 2.1 Profile the diffusion code with cProfile and line_profiler the computation."
   ]
  },
  {
   "cell_type": "code",
   "execution_count": 27,
   "metadata": {},
   "outputs": [
    {
     "name": "stdout",
     "output_type": "stream",
     "text": [
      "         105 function calls in 7.455 seconds\n",
      "\n",
      "   Ordered by: cumulative time\n",
      "\n",
      "   ncalls  tottime  percall  cumtime  percall filename:lineno(function)\n",
      "        1    0.000    0.000    7.455    7.455 {built-in method builtins.exec}\n",
      "        1    0.002    0.002    7.455    7.455 Diffusion.py:1(<module>)\n",
      "        1    0.090    0.090    7.453    7.453 Diffusion.py:18(run_experiment)\n",
      "       50    7.351    0.147    7.363    0.147 Diffusion.py:4(evolve)\n",
      "       50    0.012    0.000    0.012    0.000 Diffusion.py:6(<listcomp>)\n",
      "        1    0.001    0.001    0.001    0.001 Diffusion.py:21(<listcomp>)\n",
      "        1    0.000    0.000    0.000    0.000 {method 'disable' of '_lsprof.Profiler' objects}\n",
      "\n",
      "\n"
     ]
    }
   ],
   "source": [
    "!python -m cProfile -s cumulative Diffusion.py"
   ]
  },
  {
   "cell_type": "code",
   "execution_count": 30,
   "metadata": {},
   "outputs": [],
   "source": [
    "!python -m cProfile -o profile2.stats Diffusion.py"
   ]
  },
  {
   "cell_type": "code",
   "execution_count": 31,
   "metadata": {},
   "outputs": [
    {
     "name": "stdout",
     "output_type": "stream",
     "text": [
      "snakeviz web server started on 127.0.0.1:8080; enter Ctrl-C to exit\n",
      "http://127.0.0.1:8080/snakeviz/%2FUsers%2Fruimins%2FDownloads%2FFDD2356%2Fprofile2.stats\n",
      "^C\n",
      "\n",
      "Bye!\n"
     ]
    }
   ],
   "source": [
    "!python -m snakeviz profile2.stats --server"
   ]
  },
  {
   "cell_type": "code",
   "execution_count": 36,
   "metadata": {},
   "outputs": [
    {
     "name": "stdout",
     "output_type": "stream",
     "text": [
      "Wrote profile results to Diffusion.py.lprof\n",
      "Inspect results with:\n",
      "python -m line_profiler -rmt \"Diffusion.py.lprof\"\n",
      "Timer unit: 1e-06 s\n",
      "\n",
      "Total time: 23.2777 s\n",
      "File: Diffusion.py\n",
      "Function: evolve at line 3\n",
      "\n",
      "Line #      Hits         Time  Per Hit   % Time  Line Contents\n",
      "==============================================================\n",
      "     3                                           @profile\n",
      "     4                                           def evolve(grid, dt, D=1.0):\n",
      "     5        50         32.0      0.6      0.0      xmax, ymax = grid_shape\n",
      "     6        50      12507.0    250.1      0.1      new_grid = [[0.0] * ymax for x in range(xmax)]\n",
      "     7     32050       4504.0      0.1      0.0      for i in range(xmax):\n",
      "     8  20512000    2458362.0      0.1     10.6          for j in range(ymax):\n",
      "     9  20480000    1923732.0      0.1      8.3              grid_xx = (\n",
      "    10  20480000    6459402.0      0.3     27.7                  grid[(i + 1) % xmax][j] + grid[(i - 1) % xmax][j] - 2.0 * grid[i][j]\n",
      "    11                                                       )\n",
      "    12  20480000    2000788.0      0.1      8.6              grid_yy = (\n",
      "    13  20480000    6081643.0      0.3     26.1                  grid[i][(j + 1) % ymax] + grid[i][(j - 1) % ymax] - 2.0 * grid[i][j]\n",
      "    14                                                       )\n",
      "    15  20480000    4336683.0      0.2     18.6              new_grid[i][j] = grid[i][j] + D * (grid_xx + grid_yy) * dt\n",
      "    16        50         17.0      0.3      0.0      return new_grid\n",
      "\n",
      "Total time: 40.0195 s\n",
      "File: Diffusion.py\n",
      "Function: run_experiment at line 18\n",
      "\n",
      "Line #      Hits         Time  Per Hit   % Time  Line Contents\n",
      "==============================================================\n",
      "    18                                           @profile\n",
      "    19                                           def run_experiment(num_iterations):\n",
      "    20                                               # Setting up initial conditions \n",
      "    21         1          0.0      0.0      0.0      xmax, ymax = grid_shape\n",
      "    22         1       1198.0   1198.0      0.0      grid = [[0.0] * ymax for x in range(xmax)]\n",
      "    23                                           \n",
      "    24                                               # These initial conditions are simulating a drop of dye in the middle of our\n",
      "    25                                               # simulated region\n",
      "    26         1          0.0      0.0      0.0      block_low = int(grid_shape[0] * 0.4)\n",
      "    27         1          0.0      0.0      0.0      block_high = int(grid_shape[0] * 0.5)\n",
      "    28        65          7.0      0.1      0.0      for i in range(block_low, block_high):\n",
      "    29      4160        463.0      0.1      0.0          for j in range(block_low, block_high):\n",
      "    30      4096        430.0      0.1      0.0              grid[i][j] = 0.005\n",
      "    31                                           \n",
      "    32                                               # Evolve the initial conditions\n",
      "    33        51         40.0      0.8      0.0      for i in range(num_iterations):\n",
      "    34        50   40017405.0 800348.1    100.0          grid = evolve(grid, 0.1)\n",
      "\n"
     ]
    }
   ],
   "source": [
    "!python -m kernprof -l Diffusion.py\n",
    "!python -m line_profiler Diffusion.py.lprof"
   ]
  },
  {
   "cell_type": "markdown",
   "metadata": {},
   "source": [
    "## Task 2.2 Memory-profile the diffusion code. Use the memory_profiler and mprof to profile the computation. "
   ]
  },
  {
   "cell_type": "code",
   "execution_count": 38,
   "metadata": {},
   "outputs": [
    {
     "name": "stdout",
     "output_type": "stream",
     "text": [
      "Filename: Diffusion.py\n",
      "\n",
      "Line #    Mem usage    Increment  Occurrences   Line Contents\n",
      "=============================================================\n",
      "     3   49.859 MiB 1582.016 MiB          50   @profile\n",
      "     4                                         def evolve(grid, dt, D=1.0):\n",
      "     5   49.859 MiB -908.141 MiB          50       xmax, ymax = grid_shape\n",
      "     6   53.016 MiB -645325.391 MiB       32150       new_grid = [[0.0] * ymax for x in range(xmax)]\n",
      "     7   61.547 MiB -921561.984 MiB       32050       for i in range(xmax):\n",
      "     8   61.547 MiB -590123916.297 MiB    20512000           for j in range(ymax):\n",
      "     9   61.547 MiB -589202749.062 MiB    20480000               grid_xx = (\n",
      "    10   61.547 MiB -589203015.250 MiB    20480000                   grid[(i + 1) % xmax][j] + grid[(i - 1) % xmax][j] - 2.0 * grid[i][j]\n",
      "    11                                                     )\n",
      "    12   61.547 MiB -589203004.781 MiB    20480000               grid_yy = (\n",
      "    13   61.547 MiB -589202883.328 MiB    20480000                   grid[i][(j + 1) % ymax] + grid[i][(j - 1) % ymax] - 2.0 * grid[i][j]\n",
      "    14                                                     )\n",
      "    15   61.547 MiB -589203106.078 MiB    20480000               new_grid[i][j] = grid[i][j] + D * (grid_xx + grid_yy) * dt\n",
      "    16   61.547 MiB -1284.438 MiB          50       return new_grid\n",
      "\n",
      "\n",
      "Filename: Diffusion.py\n",
      "\n",
      "Line #    Mem usage    Increment  Occurrences   Line Contents\n",
      "=============================================================\n",
      "    18   45.391 MiB   45.391 MiB           1   @profile\n",
      "    19                                         def run_experiment(num_iterations):\n",
      "    20                                             # Setting up initial conditions \n",
      "    21   45.391 MiB    0.000 MiB           1       xmax, ymax = grid_shape\n",
      "    22   48.453 MiB    3.062 MiB         643       grid = [[0.0] * ymax for x in range(xmax)]\n",
      "    23                                         \n",
      "    24                                             # These initial conditions are simulating a drop of dye in the middle of our\n",
      "    25                                             # simulated region\n",
      "    26   48.453 MiB    0.000 MiB           1       block_low = int(grid_shape[0] * 0.4)\n",
      "    27   48.453 MiB    0.000 MiB           1       block_high = int(grid_shape[0] * 0.5)\n",
      "    28   48.453 MiB    0.000 MiB          65       for i in range(block_low, block_high):\n",
      "    29   48.453 MiB    0.000 MiB        4160           for j in range(block_low, block_high):\n",
      "    30   48.453 MiB    0.000 MiB        4096               grid[i][j] = 0.005\n",
      "    31                                         \n",
      "    32                                             # Evolve the initial conditions\n",
      "    33   49.859 MiB -913.188 MiB          51       for i in range(num_iterations):\n",
      "    34   49.859 MiB 1574.953 MiB          50           grid = evolve(grid, 0.1)\n",
      "\n",
      "\n"
     ]
    }
   ],
   "source": [
    "!python -m memory_profiler Diffusion.py"
   ]
  },
  {
   "cell_type": "code",
   "execution_count": 40,
   "metadata": {},
   "outputs": [
    {
     "name": "stdout",
     "output_type": "stream",
     "text": [
      "mprof.py: Sampling memory every 0.1s\n",
      "running new process\n",
      "running as a Python program...\n"
     ]
    }
   ],
   "source": [
    "!python -m mprof run Diffusion.py\n",
    "import matplotlib.pyplot as plt\n",
    "%matplotlib inline\n",
    "#!python -m mprof plot mprofile_20250217101954.dat"
   ]
  }
 ],
 "metadata": {
  "kernelspec": {
   "display_name": "FDD2356",
   "language": "python",
   "name": "python3"
  },
  "language_info": {
   "codemirror_mode": {
    "name": "ipython",
    "version": 3
   },
   "file_extension": ".py",
   "mimetype": "text/x-python",
   "name": "python",
   "nbconvert_exporter": "python",
   "pygments_lexer": "ipython3",
   "version": "3.9.12"
  }
 },
 "nbformat": 4,
 "nbformat_minor": 2
}
